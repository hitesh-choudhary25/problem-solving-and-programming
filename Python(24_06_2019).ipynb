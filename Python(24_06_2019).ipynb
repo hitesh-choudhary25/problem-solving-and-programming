{
  "nbformat": 4,
  "nbformat_minor": 0,
  "metadata": {
    "colab": {
      "name": "Python(24-06-2019)",
      "version": "0.3.2",
      "provenance": [],
      "collapsed_sections": []
    },
    "kernelspec": {
      "name": "python3",
      "display_name": "Python 3"
    }
  },
  "cells": [
    {
      "cell_type": "markdown",
      "metadata": {
        "id": "vyClEV2Xrkhj",
        "colab_type": "text"
      },
      "source": [
        "**Example1**\n",
        "Print even numbers"
      ]
    },
    {
      "cell_type": "code",
      "metadata": {
        "id": "LI1EJe4alSSw",
        "colab_type": "code",
        "outputId": "73acf4ee-ed88-42b6-cb4e-1e310cbe5622",
        "colab": {
          "base_uri": "https://localhost:8080/",
          "height": 34
        }
      },
      "source": [
        "def printEven(n):\n",
        "  count=0;\n",
        "  sum=0;\n",
        "  while(count!=n):\n",
        "    if(count%2==0):\n",
        "      sum=sum+count;\n",
        "    count=count+1;\n",
        "  return sum;\n",
        "\n",
        "print(printEven(10));"
      ],
      "execution_count": 0,
      "outputs": [
        {
          "output_type": "stream",
          "text": [
            "20\n"
          ],
          "name": "stdout"
        }
      ]
    },
    {
      "cell_type": "markdown",
      "metadata": {
        "id": "cKM3lKoJtQ5L",
        "colab_type": "text"
      },
      "source": [
        "**Example 2** Functional Programming\n",
        "Find factor list of given number"
      ]
    },
    {
      "cell_type": "code",
      "metadata": {
        "id": "89DJsmsotSUj",
        "colab_type": "code",
        "outputId": "4beee3a2-e5a1-4ecc-a628-d9b13c53a5ee",
        "colab": {
          "base_uri": "https://localhost:8080/",
          "height": 34
        }
      },
      "source": [
        "def factorsList(n):\n",
        "  i=1;\n",
        "  while(i!=n):\n",
        "    if(n%i==0):\n",
        "      print(i,end=\"\");\n",
        "    i=i+1;\n",
        "  return ;\n",
        "\n",
        "factorsList(12);"
      ],
      "execution_count": 0,
      "outputs": [
        {
          "output_type": "stream",
          "text": [
            "12346"
          ],
          "name": "stdout"
        }
      ]
    },
    {
      "cell_type": "markdown",
      "metadata": {
        "id": "GS94aixhu3mb",
        "colab_type": "text"
      },
      "source": [
        "**List in python:**\n",
        "\n",
        "List can be written in python with square brackets and each item in the list separated by comma operator. "
      ]
    },
    {
      "cell_type": "markdown",
      "metadata": {
        "id": "QMTel-AjwHYq",
        "colab_type": "text"
      },
      "source": [
        "**Example 1** \n",
        "list1=[1,2,3,4,5]\n",
        "list2=[\"a\",\"b\",\"c\",\"d\"]\n",
        "lsit3=['maths','science,'physics']"
      ]
    },
    {
      "cell_type": "code",
      "metadata": {
        "id": "NXy2TWRfvaPa",
        "colab_type": "code",
        "outputId": "7ca18307-1d4e-4046-bd80-b26ae11080ed",
        "colab": {
          "base_uri": "https://localhost:8080/",
          "height": 214
        }
      },
      "source": [
        "list1=[1,2,3,4,5]\n",
        "#Entire list\n",
        "print(list1);\n",
        "#list[0]\n",
        "print(list[0]);"
      ],
      "execution_count": 0,
      "outputs": [
        {
          "output_type": "stream",
          "text": [
            "[1, 2, 3, 4, 5]\n"
          ],
          "name": "stdout"
        },
        {
          "output_type": "error",
          "ename": "TypeError",
          "evalue": "ignored",
          "traceback": [
            "\u001b[0;31m---------------------------------------------------------------------------\u001b[0m",
            "\u001b[0;31mTypeError\u001b[0m                                 Traceback (most recent call last)",
            "\u001b[0;32m<ipython-input-14-0be22fe2517a>\u001b[0m in \u001b[0;36m<module>\u001b[0;34m()\u001b[0m\n\u001b[1;32m      3\u001b[0m \u001b[0mprint\u001b[0m\u001b[0;34m(\u001b[0m\u001b[0mlist1\u001b[0m\u001b[0;34m)\u001b[0m\u001b[0;34m;\u001b[0m\u001b[0;34m\u001b[0m\u001b[0;34m\u001b[0m\u001b[0m\n\u001b[1;32m      4\u001b[0m \u001b[0;31m#list[0]\u001b[0m\u001b[0;34m\u001b[0m\u001b[0;34m\u001b[0m\u001b[0;34m\u001b[0m\u001b[0m\n\u001b[0;32m----> 5\u001b[0;31m \u001b[0mprint\u001b[0m\u001b[0;34m(\u001b[0m\u001b[0mlist\u001b[0m\u001b[0;34m[\u001b[0m\u001b[0;36m0\u001b[0m\u001b[0;34m]\u001b[0m\u001b[0;34m)\u001b[0m\u001b[0;34m;\u001b[0m\u001b[0;34m\u001b[0m\u001b[0;34m\u001b[0m\u001b[0m\n\u001b[0m",
            "\u001b[0;31mTypeError\u001b[0m: 'type' object is not subscriptable"
          ]
        }
      ]
    },
    {
      "cell_type": "markdown",
      "metadata": {
        "id": "ZM-7bKWkxb4z",
        "colab_type": "text"
      },
      "source": [
        "**syntax**\n",
        "\n",
        "for loop  \n",
        "**Example 1:**"
      ]
    },
    {
      "cell_type": "code",
      "metadata": {
        "id": "GhsG3HETx52q",
        "colab_type": "code",
        "outputId": "9cffdf20-6baf-496d-97b2-716ccdb232f3",
        "colab": {
          "base_uri": "https://localhost:8080/",
          "height": 34
        }
      },
      "source": [
        "list2=[\"Akhil\" ,\"Arvind\" ,\"Anil\" ,\"Akash\"];\n",
        "for x in list2:\n",
        "  print(x,end=\"\");"
      ],
      "execution_count": 0,
      "outputs": [
        {
          "output_type": "stream",
          "text": [
            "AkhilArvindAnilAkash"
          ],
          "name": "stdout"
        }
      ]
    },
    {
      "cell_type": "markdown",
      "metadata": {
        "id": "dGUiPcu_zeUD",
        "colab_type": "text"
      },
      "source": [
        "**Example 2**"
      ]
    },
    {
      "cell_type": "code",
      "metadata": {
        "id": "KA4vf--NzhnL",
        "colab_type": "code",
        "outputId": "d9174b13-05f0-446d-ed8b-a50b90bef82e",
        "colab": {
          "base_uri": "https://localhost:8080/",
          "height": 85
        }
      },
      "source": [
        "#List example with particular index\n",
        "list1=[1,2,3,4,5,6,7]\n",
        "for x in list1:\n",
        "  print(x,end=\"\")\n",
        "  \n",
        "print();\n",
        "print(list1[4]);\n",
        "print(list1[3:7]);\n",
        "print(list1[0:7]);"
      ],
      "execution_count": 0,
      "outputs": [
        {
          "output_type": "stream",
          "text": [
            "1234567\n",
            "5\n",
            "[4, 5, 6, 7]\n",
            "[1, 2, 3, 4, 5, 6, 7]\n"
          ],
          "name": "stdout"
        }
      ]
    },
    {
      "cell_type": "markdown",
      "metadata": {
        "id": "898LgTBT2WL8",
        "colab_type": "text"
      },
      "source": [
        "**Example 3**"
      ]
    },
    {
      "cell_type": "code",
      "metadata": {
        "id": "9HdzGMaQ2aWs",
        "colab_type": "code",
        "outputId": "57077f20-2bde-4938-e2ac-f30f13c00d71",
        "colab": {
          "base_uri": "https://localhost:8080/",
          "height": 153
        }
      },
      "source": [
        "list1=[1,2,3,4,5,6,7,8,9,10]\n",
        "for x in list1:\n",
        "  print(x,end= \"\")\n",
        "  \n",
        "print();\n",
        "print(list1[1:-1]);\n",
        "print(list1[2:-2]);\n",
        "print(list1[::2]);\n",
        "print(list1[::3]);\n",
        "print(list1[::-2]);\n",
        "print(list1[-1]);\n",
        "print(list1[-10]);"
      ],
      "execution_count": 0,
      "outputs": [
        {
          "output_type": "stream",
          "text": [
            "12345678910\n",
            "[2, 3, 4, 5, 6, 7, 8, 9]\n",
            "[3, 4, 5, 6, 7, 8]\n",
            "[1, 3, 5, 7, 9]\n",
            "[1, 4, 7, 10]\n",
            "[10, 8, 6, 4, 2]\n",
            "10\n",
            "1\n"
          ],
          "name": "stdout"
        }
      ]
    },
    {
      "cell_type": "markdown",
      "metadata": {
        "id": "uUnvRsUx-s4c",
        "colab_type": "text"
      },
      "source": [
        "**List method **\n",
        "\n",
        "*append: the method appends a passed object into a existing list\n",
        "*count"
      ]
    },
    {
      "cell_type": "code",
      "metadata": {
        "id": "aWyYUDxj7WJV",
        "colab_type": "code",
        "outputId": "9fac9483-eb7b-4db1-8609-c5fd94e27289",
        "colab": {
          "base_uri": "https://localhost:8080/",
          "height": 119
        }
      },
      "source": [
        "list1 = [\"Anil\",\"Adrarsh\",\"Akhil\",1]\n",
        "print(list1);\n",
        "\n",
        "list1[2]= 15; #update the list item\n",
        "print(list1);\n",
        "del list1[3]; #delete the list item\n",
        "print(list1);\n",
        "list1[1]=\"Gitam\";\n",
        "print(list1);\n",
        "list2=[1,2,3];\n",
        "print(list2);\n",
        "print(list1+list2); #concatination of both the list"
      ],
      "execution_count": 0,
      "outputs": [
        {
          "output_type": "stream",
          "text": [
            "['Anil', 'Adrarsh', 'Akhil', 1]\n",
            "['Anil', 'Adrarsh', 15, 1]\n",
            "['Anil', 'Adrarsh', 15]\n",
            "['Anil', 'Gitam', 15]\n",
            "[1, 2, 3]\n",
            "['Anil', 'Gitam', 15, 1, 2, 3]\n"
          ],
          "name": "stdout"
        }
      ]
    },
    {
      "cell_type": "code",
      "metadata": {
        "id": "o2GfRChO_BAc",
        "colab_type": "code",
        "outputId": "ddca0894-1d62-4f49-c17a-301c5132a895",
        "colab": {
          "base_uri": "https://localhost:8080/",
          "height": 119
        }
      },
      "source": [
        "list1 = [1,2,3,4,5]\n",
        "print(list1);\n",
        "del list1[2];\n",
        "print(list1);\n",
        "#list1[4]=15;\n",
        "print(len(list1));#used to check the length of list\n",
        "list1.append(15);\n",
        "list1.append(150);\n",
        "list1.append(1);\n",
        "list1.append(3);\n",
        "list1.append(1);\n",
        "print(list1);\n",
        "print(list1.count(1));\n",
        "print(list1.count(3));"
      ],
      "execution_count": 0,
      "outputs": [
        {
          "output_type": "stream",
          "text": [
            "[1, 2, 3, 4, 5]\n",
            "[1, 2, 4, 5]\n",
            "4\n",
            "[1, 2, 4, 5, 15, 150, 1, 3, 1]\n",
            "3\n",
            "1\n"
          ],
          "name": "stdout"
        }
      ]
    },
    {
      "cell_type": "markdown",
      "metadata": {
        "id": "JmC5tQ0fJgFt",
        "colab_type": "text"
      },
      "source": [
        "**List method **\n",
        "\n",
        "**Index**: Its returns the index of passed object first occurance from the left side \n",
        "\n",
        "**Insert**: The insert insertes the passed object at certain index\n"
      ]
    },
    {
      "cell_type": "code",
      "metadata": {
        "id": "6LlLCMmQJ4dc",
        "colab_type": "code",
        "outputId": "14d36a00-56ba-40f0-e489-211aaaaa78c0",
        "colab": {
          "base_uri": "https://localhost:8080/",
          "height": 102
        }
      },
      "source": [
        "list1 = [\"gitam\",\"python\",\"raptor\",1,5,\"python\",\"python\"]\n",
        "print(list1);\n",
        "list1.index(\"python\")#finding the index of object ib the list\n",
        "list1.index(1)\n",
        "print(len(list1))\n",
        "list1.insert(2,2019)\n",
        "print(list1)\n",
        "print(len(list1))\n",
        "list1.insert(4,2020)\n",
        "print(list1)"
      ],
      "execution_count": 0,
      "outputs": [
        {
          "output_type": "stream",
          "text": [
            "['gitam', 'python', 'raptor', 1, 5, 'python', 'python']\n",
            "7\n",
            "['gitam', 'python', 2019, 'raptor', 1, 5, 'python', 'python']\n",
            "8\n",
            "['gitam', 'python', 2019, 'raptor', 2020, 1, 5, 'python', 'python']\n"
          ],
          "name": "stdout"
        }
      ]
    },
    {
      "cell_type": "markdown",
      "metadata": {
        "id": "gk_AF3Z8M_Wz",
        "colab_type": "text"
      },
      "source": [
        "**List method**\n",
        "\n",
        "**remove**: The remove method removes the past object from the first occurance from the left direction\n",
        "\n",
        "**reverse**: The reverse reverses the object in the list"
      ]
    },
    {
      "cell_type": "code",
      "metadata": {
        "id": "UFZOI-FYNRms",
        "colab_type": "code",
        "outputId": "af6736cc-9bb1-484f-8254-b8800e9b3e9d",
        "colab": {
          "base_uri": "https://localhost:8080/",
          "height": 85
        }
      },
      "source": [
        "list1 = [\"gitam\",\"python\",\"Raptor\",1,5,\"python\",\"pyhton\"]\n",
        "print(list1)\n",
        "list1.remove(\"python\")\n",
        "print(list1)\n",
        "list1.remove(\"python\")\n",
        "print(list1)\n",
        "\n",
        "list1.reverse()\n",
        "print(list1)"
      ],
      "execution_count": 0,
      "outputs": [
        {
          "output_type": "stream",
          "text": [
            "['gitam', 'python', 'Raptor', 1, 5, 'python', 'pyhton']\n",
            "['gitam', 'Raptor', 1, 5, 'python', 'pyhton']\n",
            "['gitam', 'Raptor', 1, 5, 'pyhton']\n",
            "['pyhton', 5, 1, 'Raptor', 'gitam']\n"
          ],
          "name": "stdout"
        }
      ]
    },
    {
      "cell_type": "markdown",
      "metadata": {
        "id": "WFhMJbtHQ3Yj",
        "colab_type": "text"
      },
      "source": [
        "**Datastructures**\n",
        "\n",
        "They are 3 stages\n",
        "\n",
        "**1.Search a data**: They are two types of search\n",
        "\n",
        "1.Linear search 2.Binary search\n",
        "\n",
        "1.**Linear search**: \n",
        "    * linear search algo can be applied on unsorted list and sorted list\n",
        "    \n",
        "    *linear search algo can be applied on unique list,Duplicate list\n",
        "    \n",
        "    ->Unique list--All items in the list appears only for once\n",
        "    \n",
        "    ->Duplicate list--Items in the list some time appears more than once\n",
        "    *linear search starts from left direction.\n",
        "\n",
        "\n"
      ]
    },
    {
      "cell_type": "code",
      "metadata": {
        "id": "gqvaTwQKTLqk",
        "colab_type": "code",
        "outputId": "f1f7b096-5f91-4f05-e786-c887182acb63",
        "colab": {
          "base_uri": "https://localhost:8080/",
          "height": 51
        }
      },
      "source": [
        "def linearSearch(a,tarItem):\n",
        "  flag=0;\n",
        "  for i in range(len(a)):\n",
        "    if a[i] == tarItem:\n",
        "      flag=1;\n",
        "      break\n",
        "  if(flag!=0):\n",
        "    print(\"Target item is found\")\n",
        "  else:\n",
        "    print(\"Target item is not found\")\n",
        "    \n",
        "a=[12,24,36,48]\n",
        "linearSearch(a,12)\n",
        "linearSearch(a,22)"
      ],
      "execution_count": 0,
      "outputs": [
        {
          "output_type": "stream",
          "text": [
            "Target item is found\n",
            "Target item is not found\n"
          ],
          "name": "stdout"
        }
      ]
    },
    {
      "cell_type": "code",
      "metadata": {
        "id": "uCA0x3UoXQU8",
        "colab_type": "code",
        "outputId": "ec7f46ac-f4d8-42c4-a9a2-5e67c54b466e",
        "colab": {
          "base_uri": "https://localhost:8080/",
          "height": 34
        }
      },
      "source": [
        "def linearSearchDuplicate(a,tarItem):\n",
        "  flag=0;\n",
        "  for i in range(len(a)):\n",
        "    if a[i] == tarItem:\n",
        "      flag=flag+1\n",
        "  \n",
        "  print(flag)\n",
        "  \n",
        "a=[9,1,6,1,5,9,15,16]\n",
        "linearSearchDuplicate(a,9)"
      ],
      "execution_count": 0,
      "outputs": [
        {
          "output_type": "stream",
          "text": [
            "2\n"
          ],
          "name": "stdout"
        }
      ]
    },
    {
      "cell_type": "markdown",
      "metadata": {
        "id": "lzJTumfNrOog",
        "colab_type": "text"
      },
      "source": [
        "**Linear search examples**\n",
        "\n",
        "**Example 1**\n",
        "\n",
        "**input**:List\n",
        "\n",
        "**Output**:Indexes of target item\n",
        "\n"
      ]
    },
    {
      "cell_type": "code",
      "metadata": {
        "id": "3g14Ixdr58Fs",
        "colab_type": "code",
        "outputId": "5efae311-f5eb-47b9-a828-d5249be068d8",
        "colab": {
          "base_uri": "https://localhost:8080/",
          "height": 34
        }
      },
      "source": [
        "def linearExample1(a,tarItem):\n",
        "  for i in range(len(a)):\n",
        "    if a[i] == tarItem:\n",
        "      print(i,end=\"\")\n",
        "    \n",
        "      \n",
        "\n",
        "a=[1,5,9,6,5,15,12,5]\n",
        "linearExample1(a,5)"
      ],
      "execution_count": 0,
      "outputs": [
        {
          "output_type": "stream",
          "text": [
            "147"
          ],
          "name": "stdout"
        }
      ]
    },
    {
      "cell_type": "markdown",
      "metadata": {
        "id": "oGv9JlwotuHf",
        "colab_type": "text"
      },
      "source": [
        "**Example 2**\n",
        "\n",
        "**Input**: A list\n",
        "\n",
        "**output**:A sequence of characters"
      ]
    },
    {
      "cell_type": "code",
      "metadata": {
        "id": "sQEOd9XBuLX_",
        "colab_type": "code",
        "outputId": "0e3da92b-86a1-4ea8-c854-45322f2d9b3b",
        "colab": {
          "base_uri": "https://localhost:8080/",
          "height": 34
        }
      },
      "source": [
        "def linearExample2(a,tarItem):\n",
        "  for i in range(len(a)):\n",
        "    if a[i] == tarItem:\n",
        "      j=0\n",
        "      while j!=i+1:\n",
        "        print(\"!\",end=\" \")\n",
        "        j=j+1\n",
        "      print(end=\" \")\n",
        "      \n",
        "a=[1,5,9,6,5,15,12,5]\n",
        "linearExample2(a,5)\n",
        "      "
      ],
      "execution_count": 0,
      "outputs": [
        {
          "output_type": "stream",
          "text": [
            "! !  ! ! ! ! !  ! ! ! ! ! ! ! !  "
          ],
          "name": "stdout"
        }
      ]
    },
    {
      "cell_type": "markdown",
      "metadata": {
        "id": "nXtxpjiYy1XY",
        "colab_type": "text"
      },
      "source": [
        "**Example 3**\n",
        "\n",
        "**Input**: List\n",
        "\n",
        "**Output**:As per the given \n",
        "\n",
        "-> A list item should be perfect multiple of 3&5\n",
        "\n",
        "-> Sum of all the list items which is perfect multiple of 3&5"
      ]
    },
    {
      "cell_type": "code",
      "metadata": {
        "id": "JtyEvscJz9qW",
        "colab_type": "code",
        "outputId": "d505933f-d834-4afa-b48c-8778108dd770",
        "colab": {
          "base_uri": "https://localhost:8080/",
          "height": 34
        }
      },
      "source": [
        "def linearExample3(a):\n",
        "  sum=0;\n",
        "  for i in range(len(a)):\n",
        "    if a[i]%3==0 and a[i]%5==0:\n",
        "      sum=sum+a[i]\n",
        "      \n",
        "  return sum\n",
        "\n",
        "a=[15,12,2,9,18,36,45]\n",
        "print(linearExample3(a))\n",
        "      "
      ],
      "execution_count": 0,
      "outputs": [
        {
          "output_type": "stream",
          "text": [
            "60\n"
          ],
          "name": "stdout"
        }
      ]
    },
    {
      "cell_type": "markdown",
      "metadata": {
        "id": "MzpBCTaL20Z2",
        "colab_type": "text"
      },
      "source": [
        "**Example 4**\n",
        "\n",
        "**Input**: List\n",
        "\n",
        "**Output**:Formatted output"
      ]
    },
    {
      "cell_type": "code",
      "metadata": {
        "id": "JfWdWTQH3K8f",
        "colab_type": "code",
        "outputId": "8defb080-147b-424f-c525-cbb3450d9b38",
        "colab": {
          "base_uri": "https://localhost:8080/",
          "height": 34
        }
      },
      "source": [
        "def linearExample4(a):\n",
        "  for i in range (len(a)):\n",
        "    if i==0 or i==(len(a) - 1):\n",
        "      print(a[i],end=\" \");\n",
        "    else:\n",
        "      print(a[i-1] * a[i+1],end=\" \")\n",
        "      \n",
        "  \n",
        "  \n",
        "  \n",
        "a=[1,2,3,4,5]\n",
        "linearExample4(a);"
      ],
      "execution_count": 0,
      "outputs": [
        {
          "output_type": "stream",
          "text": [
            "1 3 8 15 5 "
          ],
          "name": "stdout"
        }
      ]
    },
    {
      "cell_type": "markdown",
      "metadata": {
        "id": "mQ10vkE972qP",
        "colab_type": "text"
      },
      "source": [
        "**Example 5**\n",
        "\n",
        "**Input**: List\n",
        "\n",
        "**Output**:Formatted output \n",
        "\n",
        "**first and last items to be printed as it is.\n",
        "\n",
        "**for the middle items need to check both sides of the number is even or odd . if it is even then print item otherwise skip that item"
      ]
    },
    {
      "cell_type": "code",
      "metadata": {
        "id": "4SbPMr-Q8FDw",
        "colab_type": "code",
        "outputId": "f10c01d8-b916-424e-943b-2d34925d6aaa",
        "colab": {
          "base_uri": "https://localhost:8080/",
          "height": 34
        }
      },
      "source": [
        "def linearExample5(a):\n",
        "  for i in range(len(a)):\n",
        "    if i==0 or i==(len(a)-1):\n",
        "      print(a[i],end=\" \")\n",
        "    elif a[i-1]%2==0 and a[i+1]%2==0:\n",
        "      print(a[i],end=\" \")\n",
        "\n",
        "a=[1,6,9,4,16,19,22]\n",
        "linearExample5(a)\n",
        "      "
      ],
      "execution_count": 0,
      "outputs": [
        {
          "output_type": "stream",
          "text": [
            "1 9 19 22 "
          ],
          "name": "stdout"
        }
      ]
    },
    {
      "cell_type": "markdown",
      "metadata": {
        "id": "Lc_hdlalAOpg",
        "colab_type": "text"
      },
      "source": [
        "**Example 6**\n",
        "\n",
        "**Input**:A number\n",
        "\n",
        "**Output**:List"
      ]
    },
    {
      "cell_type": "code",
      "metadata": {
        "id": "PyAEUjikA3G_",
        "colab_type": "code",
        "outputId": "d712d0c9-8a8c-499f-a711-29a79afc8b12",
        "colab": {
          "base_uri": "https://localhost:8080/",
          "height": 51
        }
      },
      "source": [
        "def numberToListConversion(n):\n",
        "  list1=[]\n",
        "  while n!=0:\n",
        "    r=n%10\n",
        "    list1.append(r)\n",
        "    n=n//10\n",
        "  list1.reverse()\n",
        "  print(list1)\n",
        "    \n",
        "numberToListConversion(14569)\n",
        "numberToListConversion(1974)\n",
        "    \n",
        "  "
      ],
      "execution_count": 0,
      "outputs": [
        {
          "output_type": "stream",
          "text": [
            "[1, 4, 5, 6, 9]\n",
            "[1, 9, 7, 4]\n"
          ],
          "name": "stdout"
        }
      ]
    },
    {
      "cell_type": "code",
      "metadata": {
        "id": "kCRRvjoIJI0Y",
        "colab_type": "code",
        "outputId": "498a00ea-d2aa-4ba0-c323-a9f4c463d529",
        "colab": {
          "base_uri": "https://localhost:8080/",
          "height": 51
        }
      },
      "source": [
        "def numberToListConversion(n):\n",
        "  list1=[]\n",
        "  while n!=0:\n",
        "    r=n%10\n",
        "    list1.append(n%10)\n",
        "    n=n//10\n",
        "  list1.reverse()\n",
        "  return list1\n",
        "    \n",
        "n= int(input(\"Enter a number\"))   \n",
        "print(numberToListConversion(n))\n",
        "  "
      ],
      "execution_count": 0,
      "outputs": [
        {
          "output_type": "stream",
          "text": [
            "Enter a number14569\n",
            "[1, 4, 5, 6, 9]\n"
          ],
          "name": "stdout"
        }
      ]
    },
    {
      "cell_type": "markdown",
      "metadata": {
        "id": "-tZY1uQDJy9I",
        "colab_type": "text"
      },
      "source": [
        "**Q1**  List to number conversion\n",
        "\n",
        "1.[1,4,5,6,9]-- 14569\n",
        "\n",
        "2.[1,4,5,6,9]--46(you have consider only even in the list)\n",
        "\n",
        "3.14569--[4,6](you have consider only even digits to list)\n",
        "\n",
        "4.[1,2,3,4,5]--[1,4,3,16,5]\n",
        "\n",
        "5.[15,19,12,16,4]--[15,34,31,28,4 ]"
      ]
    },
    {
      "cell_type": "code",
      "metadata": {
        "id": "qBLKATFqKY8S",
        "colab_type": "code",
        "outputId": "d2e35413-4c75-493d-c68a-90abdf433872",
        "colab": {
          "base_uri": "https://localhost:8080/",
          "height": 102
        }
      },
      "source": [
        "list1=[1,4,5,6,9]\n",
        "sum=0;\n",
        "for i in range(len(list1)):\n",
        "  sum=(sum*10)+list1[i]\n",
        "  print(sum)\n",
        "  \n",
        "  \n",
        " \n",
        "\n",
        "  \n",
        "\n",
        "    \n",
        "  \n",
        "  "
      ],
      "execution_count": 0,
      "outputs": [
        {
          "output_type": "stream",
          "text": [
            "1\n",
            "14\n",
            "145\n",
            "1456\n",
            "14569\n"
          ],
          "name": "stdout"
        }
      ]
    },
    {
      "cell_type": "code",
      "metadata": {
        "id": "BgyNHrAZYCC5",
        "colab_type": "code",
        "outputId": "4ff90f3b-01c2-4b3c-a2e8-6e90912f6656",
        "colab": {
          "base_uri": "https://localhost:8080/",
          "height": 119
        }
      },
      "source": [
        "def evenlist(n):\n",
        "  list=[]\n",
        "  while n!=0:\n",
        "    if(n%2==0):\n",
        "      list.append(n%10)\n",
        "    n=n//10\n",
        "    list.reverse()\n",
        "    print(list)\n",
        "    \n",
        "n=int(input(\"Enter a number\"))\n",
        "evenlist(n)"
      ],
      "execution_count": 0,
      "outputs": [
        {
          "output_type": "stream",
          "text": [
            "Enter a number14569\n",
            "[]\n",
            "[6]\n",
            "[6]\n",
            "[4, 6]\n",
            "[6, 4]\n"
          ],
          "name": "stdout"
        }
      ]
    },
    {
      "cell_type": "code",
      "metadata": {
        "id": "Vw2ij2_aZFTQ",
        "colab_type": "code",
        "outputId": "69c04a86-bf69-4b8f-e86a-3d3ecfe8aab7",
        "colab": {
          "base_uri": "https://localhost:8080/",
          "height": 204
        }
      },
      "source": [
        "def linearProblem(a):\n",
        "  print(a)\n",
        "  list=[]\n",
        "  for i in range(0,len(b)):\n",
        "    if(i==0 or i==len(a)-1):\n",
        "      list.append(a[i])\n",
        "    else:\n",
        "      list.append(a[i-1]+a[i])\n",
        "    return list\n",
        "  \n",
        "size=int(input(\"enter size\"))\n",
        "b=[]\n",
        "for i in range(0,size):\n",
        "  b.append(int(input(\"enter number=\")))\n",
        "  linearProblem(b)"
      ],
      "execution_count": 0,
      "outputs": [
        {
          "output_type": "stream",
          "text": [
            "enter size5\n",
            "enter number=15\n",
            "[15]\n",
            "enter number=19\n",
            "[15, 19]\n",
            "enter number=12\n",
            "[15, 19, 12]\n",
            "enter number=16\n",
            "[15, 19, 12, 16]\n",
            "enter number=4\n",
            "[15, 19, 12, 16, 4]\n"
          ],
          "name": "stdout"
        }
      ]
    }
  ]
}