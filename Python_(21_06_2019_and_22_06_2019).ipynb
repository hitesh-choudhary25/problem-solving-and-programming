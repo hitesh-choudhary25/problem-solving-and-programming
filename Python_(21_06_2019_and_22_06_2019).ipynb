{
  "nbformat": 4,
  "nbformat_minor": 0,
  "metadata": {
    "colab": {
      "name": "Python (21-06-2019 and 22-06-2019)",
      "version": "0.3.2",
      "provenance": [],
      "include_colab_link": true
    },
    "kernelspec": {
      "name": "python3",
      "display_name": "Python 3"
    }
  },
  "cells": [
    {
      "cell_type": "markdown",
      "metadata": {
        "id": "view-in-github",
        "colab_type": "text"
      },
      "source": [
        "<a href=\"https://colab.research.google.com/github/hitesh-choudhary25/problem-solving-and-programming/blob/master/Python_(21_06_2019_and_22_06_2019).ipynb\" target=\"_parent\"><img src=\"https://colab.research.google.com/assets/colab-badge.svg\" alt=\"Open In Colab\"/></a>"
      ]
    },
    {
      "cell_type": "code",
      "metadata": {
        "id": "RxfSUD22cFOD",
        "colab_type": "code",
        "colab": {}
      },
      "source": [
        ""
      ],
      "execution_count": 0,
      "outputs": []
    },
    {
      "cell_type": "markdown",
      "metadata": {
        "id": "BHLxOQWGcwJJ",
        "colab_type": "text"
      },
      "source": [
        "#Functions programming in python\n",
        "\n",
        "functions can be used to perform the specific task in the programming.\n",
        " function in python starts with def(keyword)\n",
        " syntax: \n",
        "                def functionname(parameters):\n",
        "                     Task\n",
        "                     \n",
        "                     \n",
        "                     \n",
        " "
      ]
    },
    {
      "cell_type": "markdown",
      "metadata": {
        "id": "H94LDGAgdjQ5",
        "colab_type": "text"
      },
      "source": [
        "Example **1**\n",
        "functional Programming to print the n natural numbers"
      ]
    },
    {
      "cell_type": "code",
      "metadata": {
        "id": "uiREBvE_dwJ5",
        "colab_type": "code",
        "colab": {
          "base_uri": "https://localhost:8080/",
          "height": 68
        },
        "outputId": "b5e05037-8d9e-4e29-e312-c3a5a4bcc7cd"
      },
      "source": [
        "def printNNaturalNumbers(n):\n",
        "  count=1;\n",
        "  while(count<=n):\n",
        "    print(count,end=\"\");\n",
        "    count=count+1;\n",
        "  print()\n",
        "  return count\n",
        "\n",
        "printNNaturalNumbers(9)\n",
        "printNNaturalNumbers(15)"
      ],
      "execution_count": 20,
      "outputs": [
        {
          "output_type": "stream",
          "text": [
            "123456789\n",
            "123456789101112131415\n"
          ],
          "name": "stdout"
        },
        {
          "output_type": "execute_result",
          "data": {
            "text/plain": [
              "16"
            ]
          },
          "metadata": {
            "tags": []
          },
          "execution_count": 20
        }
      ]
    },
    {
      "cell_type": "markdown",
      "metadata": {
        "id": "zsCvECskgRij",
        "colab_type": "text"
      },
      "source": [
        "**Example 2** \n",
        "Find the factorial of a given number"
      ]
    },
    {
      "cell_type": "code",
      "metadata": {
        "id": "6CWV9F2Ngkzi",
        "colab_type": "code",
        "colab": {
          "base_uri": "https://localhost:8080/",
          "height": 68
        },
        "outputId": "d2e8889e-74cb-43be-be3c-578b4a5a7b53"
      },
      "source": [
        "def findFact(n):\n",
        "  fact=1;\n",
        "  while(n!=0):\n",
        "    fact=fact*n;\n",
        "    n=n-1;\n",
        "  return fact;\n",
        "  \n",
        "print(findFact(5));  \n",
        "print(findFact(3));\n",
        "print(findFact(6));"
      ],
      "execution_count": 31,
      "outputs": [
        {
          "output_type": "stream",
          "text": [
            "120\n",
            "6\n",
            "720\n"
          ],
          "name": "stdout"
        }
      ]
    },
    {
      "cell_type": "markdown",
      "metadata": {
        "id": "dFrSDyRAkPj6",
        "colab_type": "text"
      },
      "source": [
        "**Example 3**\n",
        " Program to find the count of palindrome numbers between two limits"
      ]
    },
    {
      "cell_type": "code",
      "metadata": {
        "id": "NGv7tYhQiYvX",
        "colab_type": "code",
        "colab": {
          "base_uri": "https://localhost:8080/",
          "height": 34
        },
        "outputId": "18ed9ad3-de13-453d-cc94-521f44cb1909"
      },
      "source": [
        "def countofPalindromes(n1,n2):\n",
        "  count=0;\n",
        "  \n",
        "  while(n1!=n2):\n",
        "    sum=0;\n",
        "    buffer=n1;\n",
        "    while(n1!=0):\n",
        "      r=n1%10;\n",
        "      sum=(sum*10)+r;\n",
        "      n1=n1//10;\n",
        "    if(buffer==sum):\n",
        "      count=count+1;\n",
        "    n1=buffer;\n",
        "    n1=n1+1;\n",
        "  return count;\n",
        "\n",
        "print(countofPalindromes(10,30));\n",
        "\n"
      ],
      "execution_count": 34,
      "outputs": [
        {
          "output_type": "stream",
          "text": [
            "2\n"
          ],
          "name": "stdout"
        }
      ]
    },
    {
      "cell_type": "code",
      "metadata": {
        "id": "jBQpT-KEnna7",
        "colab_type": "code",
        "colab": {}
      },
      "source": [
        ""
      ],
      "execution_count": 0,
      "outputs": []
    }
  ]
}